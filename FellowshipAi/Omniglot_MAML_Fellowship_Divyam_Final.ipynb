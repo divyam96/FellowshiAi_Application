{
  "nbformat": 4,
  "nbformat_minor": 0,
  "metadata": {
    "colab": {
      "name": "Omniglot-MAML-Fellowship-Divyam-Final.ipynb",
      "version": "0.3.2",
      "provenance": [],
      "collapsed_sections": []
    },
    "kernelspec": {
      "name": "python3",
      "display_name": "Python 3"
    },
    "accelerator": "GPU"
  },
  "cells": [
    {
      "cell_type": "markdown",
      "metadata": {
        "id": "Y-iXFEN6RMoT",
        "colab_type": "text"
      },
      "source": [
        "# Omniglot MAML Implementation by Divyam(divyam096@gmail.com)\n",
        "##This notebook addresses the one-shot classification (20-way) challenge on the Omniglot dataset as stated on https://fellowship.ai/challenge\n"
      ]
    },
    {
      "cell_type": "markdown",
      "metadata": {
        "id": "m-ZELWWZcZD7",
        "colab_type": "text"
      },
      "source": [
        "###To complete the setup of the colab notebook, please follow the following steps:\n",
        "\n",
        "\n",
        "1.   Change the runtime of the colab notebook to GPU (Runtime->Change runtime type -> select Python 3 AND GPU).\n",
        "2.   Please upload the epoch145_accuracy0.93125.pth, util.py, maml_cnn.py and demo_classification.py files to the current working directory(/content/.). You can find these files on extracting the zip file i have submitted.\n",
        "3.    Please run the below cell to download the necessary Omniglot data to train our models.\n",
        "\n"
      ]
    },
    {
      "cell_type": "code",
      "metadata": {
        "id": "iEnkCjuMEMJD",
        "colab_type": "code",
        "cellView": "form",
        "colab": {}
      },
      "source": [
        "#@title Run this cell to download the Omniglot background and evaluation datasets necessary to train our meta learner.\n",
        "!wget https://github.com/brendenlake/omniglot/raw/master/python/images_background.zip\n",
        "!wget https://github.com/brendenlake/omniglot/raw/master/python/images_evaluation.zip\n",
        "!unzip images_background.zip\n",
        "!unzip images_evaluation.zip\n",
        "!mkdir -p models/maml"
      ],
      "execution_count": 0,
      "outputs": []
    },
    {
      "cell_type": "markdown",
      "metadata": {
        "id": "0gu_Av5bSjAZ",
        "colab_type": "text"
      },
      "source": [
        "The code that defines the OmniglotMamlKwayNshot class can be found in the succeeding cells. Here we define a meta learner(self.__meta_learner) that comprises of a CNN built with 6 convolution blocks followed by a single layer MLP classifier.  Here each convolution block is defined by a sequence of a 3x3 conv filter, batch normalization layer, a ReLU activation, and a 2d Max pooler.  \n",
        "\n",
        "The  member function that is responsible for training the meta learner is the fit() function. \n",
        "This function implements the \"Algorithm 2 MAML for Few-Shot Supervised Learning\" as suggested by the Chelsea-Pieter-Sergey paper(https://arxiv.org/pdf/1703.03400.pdf). The algorithm can be seen below\n",
        "\n",
        "<img src =\"https://image.slidesharecdn.com/maml-181130144044/95/introduction-to-maml-model-agnostic-meta-learning-with-discussions-19-638.jpg?cb=1543588892\">\n",
        "\n",
        "The fit() function accepts a batch of tasks(T<sub>i</sub>) as input and iterates over each task. Now each tasks is further sampled into support batch(D) and a query batch(D'). The support batch is used to train the fast model. A fast model can be any model that can be optimized by gradient descent. Here for the sake of convenience, we use the same CNN architecture that is used to create the meta learner. Now the query points(D') and the loss from the fast model is used to train the meta learner as shown in the algorithm to find an ideal  &Theta;.\n",
        "\n",
        "The eval() function works in a similar manner but aims to train the fast model to adjust to an appropriate  &Theta;<sub>1</sub>/&Theta;<sub>2</sub>/&Theta;<sub>3</sub>* which are then used to compute the predicted class for each query point in D'."
      ]
    },
    {
      "cell_type": "code",
      "metadata": {
        "id": "U7ARAnNfFOgY",
        "colab_type": "code",
        "colab": {}
      },
      "source": [
        "from collections import OrderedDict\n",
        "\n",
        "import torch\n",
        "import matplotlib.pyplot as plt\n",
        "\n",
        "from torch.utils.data import DataLoader\n",
        "from torch import nn\n",
        "\n",
        "from maml_cnn import MamlCNN\n",
        "from util import OmniglotDataset, NShotTaskSampler, create_nshot_task_label, categorical_accuracy"
      ],
      "execution_count": 0,
      "outputs": []
    },
    {
      "cell_type": "code",
      "metadata": {
        "id": "HWnSnbrkEnfr",
        "colab_type": "code",
        "colab": {}
      },
      "source": [
        "class OmniglotMamlKwayNshot:\n",
        "\n",
        "    def __init__(self, k_way, n_shot, num_queries, num_tasks_per_batch, path=None):\n",
        "        \"\"\"\n",
        "        Class that defines the necessary models and functions to train the meta learner on the\n",
        "        Omniglot data set using the MAML(Model-Agnostic Meta-Learning ) approach.\n",
        "\n",
        "        :param k_way: int Number of possible classes in each query\n",
        "        :param n_shot: int Number of support data points for training each class\n",
        "        :param num_queries: int Number of queries for each class\n",
        "        :param num_tasks_per_batch: int Number of tasks for each batch in data set.\n",
        "        :param path: str Absolute path to an existing model(optional)\n",
        "        \"\"\"\n",
        "\n",
        "        self.k = k_way\n",
        "        self.n = n_shot\n",
        "        self.q = num_queries\n",
        "        self.num_tasks = num_tasks_per_batch\n",
        "        self.device = self.get_device_type()\n",
        "        self.loss_fn = nn.CrossEntropyLoss().to(self.device)\n",
        "        self.epoch = 0\n",
        "\n",
        "        self.__meta_learner = self.load_model(k_way=self.k, path=path)\n",
        "        self.__meta_learner.to(self.device, dtype=torch.double).train()\n",
        "        self.__meta_optimiser = torch.optim.Adam(self.__meta_learner.parameters(), lr=0.001)\n",
        "        self.__results = self._init_results_dict()\n",
        "\n",
        "    def fit(self, tasks):\n",
        "        \"\"\"\n",
        "\n",
        "        :param tasks: Tensor containing the tasks the meta learner needs to be trained upon.\n",
        "        :return:\n",
        "        \"\"\"\n",
        "        task_losses = []\n",
        "\n",
        "        for task in tasks:\n",
        "            x_fast_train, x_meta_train = self._sample_data(task)\n",
        "\n",
        "            fast_weights = self._train_fast_model(x_fast_train, epochs=1, create_graph=True)\n",
        "\n",
        "            y = create_nshot_task_label(self.k, self.q).to(self.device)\n",
        "            logits = self.__meta_learner.functional_forward(x_meta_train, fast_weights)\n",
        "            loss = self.loss_fn(logits, y)\n",
        "            task_losses.append(loss)\n",
        "\n",
        "        self.__meta_learner.train()\n",
        "        self.__meta_optimiser.zero_grad()\n",
        "        meta_batch_loss = torch.stack(task_losses).mean()\n",
        "        meta_batch_loss.backward()\n",
        "        self.__meta_optimiser.step()\n",
        "        self.__results[\"train\"][self.epoch] += meta_batch_loss.item()\n",
        "\n",
        "    def eval(self, tasks):\n",
        "        \"\"\"\n",
        "\n",
        "        :param tasks: Tensor containing the tasks the meta learner needs to be evaluated upon.\n",
        "        :return:\n",
        "        \"\"\"\n",
        "        y_softmax_batch = []\n",
        "\n",
        "        for task in tasks:\n",
        "            support_data, query_data = self._sample_data(task)\n",
        "\n",
        "            fast_weights = self._train_fast_model(x_fast_train=support_data, epochs=1, create_graph=False)\n",
        "\n",
        "            logits = self.__meta_learner.functional_forward(query_data, fast_weights)\n",
        "            y_softmax = logits.softmax(dim=1)\n",
        "            y_softmax_batch.append(y_softmax)\n",
        "\n",
        "        y_softmax_batch_tensor = torch.cat(y_softmax_batch)\n",
        "        return y_softmax_batch_tensor\n",
        "\n",
        "\n",
        "    def run_epoch(self, train_batches, val_batches):\n",
        "        \"\"\"\n",
        "        Primary function that defines an epoch.\n",
        "        An epoch involves:\n",
        "         1) Training step responsible for training the meta learner.\n",
        "         2) Validation step responsible for measuring the performance of the trained model\n",
        "\n",
        "        :param train_batches: DataLoader object responsible for generating training batches\n",
        "        :param val_batches: DataLoader object responsible for\n",
        "        :return:\n",
        "        \"\"\"\n",
        "        self._init_epoch()\n",
        "\n",
        "        self.fit_model(train_batches) # Training step\n",
        "        self.evaluate_model(val_batches) # Validation step\n",
        "\n",
        "        self._publish_epoch_results()\n",
        "\n",
        "    def fit_model(self, train_batches):\n",
        "        \"\"\"\n",
        "        Function to fit the meta learner on batches of training tasks.\n",
        "\n",
        "        :param train_batches: DataLoader object responsible for generating training batches\n",
        "        :return:\n",
        "        \"\"\"\n",
        "\n",
        "        for batch_index, batch in enumerate(train_batches):\n",
        "            training_tasks, y = self._get_tasks(batch)\n",
        "            self.fit(training_tasks)\n",
        "\n",
        "    def evaluate_model(self, val_batches):\n",
        "        \"\"\"\n",
        "        Function to evaluate the meta learner on batches of validation tasks.\n",
        "\n",
        "        :param val_batches: DataLoader object responsible for generating validation batches\n",
        "        :return:\n",
        "        \"\"\"\n",
        "        for batch_index, batch in enumerate(val_batches):\n",
        "            validation_tasks, y = self._get_tasks(batch)\n",
        "            y_softmax_batch = self.eval(validation_tasks)\n",
        "            self._update_batch_accuracies(batch_index, y, y_softmax_batch)\n",
        "        self._update_total_accuracies()\n",
        "\n",
        "\n",
        "    def _train_fast_model(self, x_fast_train, epochs, create_graph):\n",
        "        \"\"\"\n",
        "        Function to train the fast model on the support data points\n",
        "\n",
        "        :param x_fast_train: k*n Tensor of support data points\n",
        "        :param epochs: int number of epochs to train the fast model for\n",
        "        :param create_graph: bool defines wheteher second order derivatives will be involved\n",
        "        :return:\n",
        "        \"\"\"\n",
        "\n",
        "        fast_weights = OrderedDict(self.__meta_learner.named_parameters())\n",
        "\n",
        "        for inner_batch in range(epochs):\n",
        "            y = create_nshot_task_label(self.k, self.n).to(self.device)\n",
        "            logits = self.__meta_learner.functional_forward(x_fast_train, fast_weights)\n",
        "            loss = self.loss_fn(logits, y)\n",
        "            gradients = torch.autograd.grad(loss, fast_weights.values(), create_graph=create_graph)\n",
        "\n",
        "            fast_weights = OrderedDict(\n",
        "                (name, param - 0.4 * grad)\n",
        "                for ((name, param), grad) in zip(fast_weights.items(), gradients)\n",
        "            )\n",
        "        return fast_weights\n",
        "\n",
        "    def _sample_data(self, task):\n",
        "        \"\"\"\n",
        "        Function to sample a task into support and query data.\n",
        "\n",
        "        :param task: Tesnsor that contains the support and query data for each internal training/evaluation step.\n",
        "        :return:\n",
        "        \"\"\"\n",
        "        support_data = task[:self.n * self.k]\n",
        "        query_data = task[self.n * self.k:]\n",
        "        return support_data, query_data\n",
        "\n",
        "    def _get_tasks(self, batch):\n",
        "        \"\"\"\n",
        "        Transform a batch of sorted images into tasks where each task contains k*n support data points\n",
        "        and k*q query data points.\n",
        "\n",
        "        :param batch: Tensor that defines a batch as returned by the DataLoader\n",
        "        :return: list of tasks, list of labels\n",
        "        \"\"\"\n",
        "        x, y = batch\n",
        "        x = x.reshape(self.num_tasks, self.n * self.k + self.q * self.k, 1, x.shape[-2], x.shape[-1])\n",
        "        x = x.double().to(self.device)\n",
        "        y = create_nshot_task_label(self.k, self.q).to(self.device).repeat(self.num_tasks)\n",
        "        return x, y\n",
        "\n",
        "    def _init_results_dict(self):\n",
        "        \"\"\"\n",
        "\n",
        "        :return: dict Empty dictionary to record the performance of each epoch\n",
        "        \"\"\"\n",
        "        results = dict(train=OrderedDict(),\n",
        "                       accuracy=OrderedDict(),\n",
        "                       current_batch_accuracies=OrderedDict())\n",
        "        return results\n",
        "\n",
        "    def _init_epoch(self):\n",
        "        \"\"\"\n",
        "        Prepare the results dictionary for the upcoming epoch\n",
        "\n",
        "        :return:\n",
        "        \"\"\"\n",
        "        self.__results[\"train\"][self.epoch] = 0\n",
        "        self.__results[\"accuracy\"][self.epoch] = 0\n",
        "        self.__results[\"current_batch_accuracies\"] = OrderedDict()\n",
        "        print(f\"-----------Epoch{self.epoch}-----------\")\n",
        "\n",
        "    def _update_batch_accuracies(self, batch_index, y, y_softmax_batch):\n",
        "        \"\"\"\n",
        "\n",
        "        :param batch_index: int batch index to identify the batch number\n",
        "        :param y: Tensor containng the class number each data point in the batch belongs to.\n",
        "        :param y_softmax_batch: Tensor softmax confidence levels for each class\n",
        "        :return:\n",
        "        \"\"\"\n",
        "        self.__results[\"current_batch_accuracies\"][batch_index] = categorical_accuracy(y, y_softmax_batch)\n",
        "\n",
        "    def _update_total_accuracies(self):\n",
        "        \"\"\"\n",
        "        Function to record validation accuracies for the current epoch.\n",
        "        :return:\n",
        "        \"\"\"\n",
        "        self.__results[\"accuracy\"][self.epoch] = sum(self.__results[\"current_batch_accuracies\"].values())/\\\n",
        "                                                     len(self.__results[\"current_batch_accuracies\"].values())\n",
        "\n",
        "\n",
        "    def _publish_epoch_results(self):\n",
        "        \"\"\"\n",
        "        Function that handles the post epoch tasks like saving models and publishing epoch results to stdout\n",
        "\n",
        "        :return:\n",
        "        \"\"\"\n",
        "        accuracy = self.__results[\"accuracy\"][self.epoch]\n",
        "        torch.save(self.__meta_learner.state_dict(), f'/content/models/maml/epoch{self.epoch}_accuracy{accuracy}.pth')\n",
        "        print(\"Total train loss:\", self.__results[\"train\"][self.epoch])\n",
        "        print(\"Validation accuracy: \", self.__results[\"accuracy\"][self.epoch])\n",
        "        self.epoch += 1\n",
        "\n",
        "    def plot_training_loss(self):\n",
        "        \"\"\"\n",
        "        Function to plot training loss vs epochs\n",
        "\n",
        "        :return:\n",
        "        \"\"\"\n",
        "        plt.plot(self.__results[\"train\"].keys(), self.__results[\"train\"].values())\n",
        "        plt.xlabel('epochs')\n",
        "        plt.ylabel('Training Loss')\n",
        "\n",
        "    def plot_validation_accuracy(self):\n",
        "        \"\"\"\n",
        "        Function to plot validation accuracy vs epochs\n",
        "\n",
        "        :return:\n",
        "        \"\"\"\n",
        "        plt.plot(self.__results[\"accuracy\"].keys(), self.__results[\"accuracy\"].values())\n",
        "        plt.xlabel('epochs')\n",
        "        plt.ylabel('Validation Accuracy')\n",
        "\n",
        "    @staticmethod\n",
        "    def get_device_type():\n",
        "        \"\"\"\n",
        "        Function to detect device type\n",
        "\n",
        "        :return: device type\n",
        "        \"\"\"\n",
        "        return torch.device(\"cuda:0\" if torch.cuda.is_available() else \"cpu\")\n",
        "\n",
        "    @staticmethod\n",
        "    def load_model(k_way, path=None):\n",
        "        \"\"\"\n",
        "        Function to load a pre existing model into the Meta learner CNN if it exists and create a new one\n",
        "\n",
        "        :param k_way: Number of classes the model is supposed to discriminate between.\n",
        "        :param path: Absolute path to an existing model\n",
        "        :return: MamlCNN neural net that is to be used for the k way nshot classification task\n",
        "        \"\"\"\n",
        "        meta_learner = MamlCNN(num_input_channels=1, k_way=k_way, final_layer_size=64)\n",
        "        if path:\n",
        "            meta_learner.load_state_dict(torch.load(path))\n",
        "        return meta_learner\n",
        "\n",
        "    @staticmethod\n",
        "    def load_data(background_datset_path, evaluation_dataset_path):\n",
        "        \"\"\"\n",
        "        Function to load the Omniglot dataset\n",
        "\n",
        "        :param background_datset_path:\n",
        "        :param evaluation_dataset_path:\n",
        "        :return:\n",
        "        \"\"\"\n",
        "        background = OmniglotDataset('background', path=background_datset_path)\n",
        "        evaluation = OmniglotDataset('evaluation', path=evaluation_dataset_path)\n",
        "        return background, evaluation\n",
        "\n",
        "    @staticmethod\n",
        "    def get_task_batches_from_dataset(dataset, k, n, q, num_tasks, num_batches):\n",
        "        \"\"\"\n",
        "\n",
        "        :param dataset: Omniglot Dataset that is to be broken down into batches\n",
        "        :param k: int number of classes\n",
        "        :param n: int number of support data points for each class\n",
        "        :param q: int number of query data points for each class\n",
        "        :param num_tasks: int number of tasks per batch\n",
        "        :param num_batches: number of batches to be generated\n",
        "        :return: generator that generates batches from the dataset\n",
        "        \"\"\"\n",
        "        batches = DataLoader(dataset,\n",
        "                             batch_sampler=NShotTaskSampler(dataset, num_batches, n=n, k=k, q=q, num_tasks=num_tasks),\n",
        "                             num_workers=8)\n",
        "        return batches\n",
        "\n"
      ],
      "execution_count": 0,
      "outputs": []
    },
    {
      "cell_type": "code",
      "metadata": {
        "id": "kT3rfHTjEqlp",
        "colab_type": "code",
        "colab": {}
      },
      "source": [
        "omniglot_20 = OmniglotMamlKwayNshot(k_way=20, n_shot=1, num_queries=1,\n",
        "                                num_tasks_per_batch=6)"
      ],
      "execution_count": 0,
      "outputs": []
    },
    {
      "cell_type": "code",
      "metadata": {
        "id": "jT-B27WhFnw-",
        "colab_type": "code",
        "outputId": "d65dc9ff-2f2a-4684-c913-832c3d769092",
        "colab": {
          "base_uri": "https://localhost:8080/",
          "height": 51
        }
      },
      "source": [
        "background, evaluation = OmniglotMamlKwayNshot.load_data(background_datset_path=\"/content/images_background\",\n",
        "                                                       evaluation_dataset_path=\"/content/images_evaluation\")"
      ],
      "execution_count": 0,
      "outputs": [
        {
          "output_type": "stream",
          "text": [
            "Indexing background...\n",
            "Indexing evaluation...\n"
          ],
          "name": "stdout"
        }
      ]
    },
    {
      "cell_type": "code",
      "metadata": {
        "id": "fdqS95J6HNa6",
        "colab_type": "code",
        "colab": {}
      },
      "source": [
        "train_batches = OmniglotMamlKwayNshot.get_task_batches_from_dataset(dataset=background,\n",
        "                                    k=omniglot_20.k, n=omniglot_20.n, q=omniglot_20.q, num_tasks=omniglot_20.num_tasks, num_batches=50)\n",
        "validation_batches = OmniglotMamlKwayNshot.get_task_batches_from_dataset(dataset=evaluation,\n",
        "                                    k=omniglot_20.k, n=omniglot_20.n, q=omniglot_20.q, num_tasks=omniglot_20.num_tasks, num_batches=20)"
      ],
      "execution_count": 0,
      "outputs": []
    },
    {
      "cell_type": "code",
      "metadata": {
        "id": "UjNFSJ3xJS3X",
        "colab_type": "code",
        "outputId": "77726d2d-f4f7-4155-f48f-cf2d7930d6f9",
        "colab": {
          "base_uri": "https://localhost:8080/",
          "height": 1000
        }
      },
      "source": [
        "for epoch in range(25):\n",
        "  omniglot_20.run_epoch(train_batches=train_batches, val_batches=validation_batches)"
      ],
      "execution_count": 0,
      "outputs": [
        {
          "output_type": "stream",
          "text": [
            "-----------Epoch0-----------\n",
            "Total train loss: 135.68102197351928\n",
            "Validation accuracy:  0.275\n",
            "-----------Epoch1-----------\n",
            "Total train loss: 109.38840980208664\n",
            "Validation accuracy:  0.5195833333333334\n",
            "-----------Epoch2-----------\n",
            "Total train loss: 76.80122085094621\n",
            "Validation accuracy:  0.6283333333333334\n",
            "-----------Epoch3-----------\n",
            "Total train loss: 55.32148372540149\n",
            "Validation accuracy:  0.7354166666666666\n",
            "-----------Epoch4-----------\n",
            "Total train loss: 41.966428334065995\n",
            "Validation accuracy:  0.7529166666666667\n",
            "-----------Epoch5-----------\n",
            "Total train loss: 32.04028733280768\n",
            "Validation accuracy:  0.7954166666666667\n",
            "-----------Epoch6-----------\n",
            "Total train loss: 26.964144254729124\n",
            "Validation accuracy:  0.8220833333333333\n",
            "-----------Epoch7-----------\n",
            "Total train loss: 22.148336699560392\n",
            "Validation accuracy:  0.8408333333333331\n",
            "-----------Epoch8-----------\n",
            "Total train loss: 20.89852030806977\n",
            "Validation accuracy:  0.8620833333333332\n",
            "-----------Epoch9-----------\n",
            "Total train loss: 17.79094459875732\n",
            "Validation accuracy:  0.8583333333333334\n",
            "-----------Epoch10-----------\n",
            "Total train loss: 16.49564503436586\n",
            "Validation accuracy:  0.8525\n",
            "-----------Epoch11-----------\n",
            "Total train loss: 15.865951267470258\n",
            "Validation accuracy:  0.8545833333333333\n",
            "-----------Epoch12-----------\n",
            "Total train loss: 14.153554544564035\n",
            "Validation accuracy:  0.8829166666666668\n",
            "-----------Epoch13-----------\n",
            "Total train loss: 13.583263534574005\n",
            "Validation accuracy:  0.8841666666666667\n",
            "-----------Epoch14-----------\n",
            "Total train loss: 12.620055531283898\n",
            "Validation accuracy:  0.8866666666666667\n",
            "-----------Epoch15-----------\n",
            "Total train loss: 11.623459281318418\n",
            "Validation accuracy:  0.8912500000000001\n",
            "-----------Epoch16-----------\n",
            "Total train loss: 11.139593916041324\n",
            "Validation accuracy:  0.8833333333333334\n",
            "-----------Epoch17-----------\n",
            "Total train loss: 11.962507194530595\n",
            "Validation accuracy:  0.9\n",
            "-----------Epoch18-----------\n",
            "Total train loss: 10.743433956656219\n",
            "Validation accuracy:  0.9037500000000002\n",
            "-----------Epoch19-----------\n",
            "Total train loss: 10.07764779201251\n",
            "Validation accuracy:  0.9029166666666668\n",
            "-----------Epoch20-----------\n",
            "Total train loss: 9.358280123603205\n",
            "Validation accuracy:  0.9012500000000001\n",
            "-----------Epoch21-----------\n",
            "Total train loss: 9.607566746030011\n",
            "Validation accuracy:  0.9012500000000001\n",
            "-----------Epoch22-----------\n",
            "Total train loss: 9.190067483183363\n",
            "Validation accuracy:  0.89625\n",
            "-----------Epoch23-----------\n",
            "Total train loss: 9.372508592821237\n",
            "Validation accuracy:  0.8937499999999998\n",
            "-----------Epoch24-----------\n",
            "Total train loss: 8.97301528972672\n",
            "Validation accuracy:  0.9008333333333336\n"
          ],
          "name": "stdout"
        }
      ]
    },
    {
      "cell_type": "code",
      "metadata": {
        "id": "-PiiFukDRTHJ",
        "colab_type": "code",
        "outputId": "7405332d-195b-4be4-e86f-a09f1a81f79c",
        "colab": {
          "base_uri": "https://localhost:8080/",
          "height": 283
        }
      },
      "source": [
        "omniglot_20.plot_training_loss()"
      ],
      "execution_count": 0,
      "outputs": [
        {
          "output_type": "display_data",
          "data": {
            "image/png": "[encoded data removed]",
            "text/plain": [
              "<Figure size 432x288 with 1 Axes>"
            ]
          },
          "metadata": {
            "tags": []
          }
        }
      ]
    },
    {
      "cell_type": "code",
      "metadata": {
        "id": "05L-Pb-UUQUu",
        "colab_type": "code",
        "outputId": "fda4a3a1-7ad6-4542-e167-06ea2fd42b3e",
        "colab": {
          "base_uri": "https://localhost:8080/",
          "height": 283
        }
      },
      "source": [
        "omniglot_20.plot_validation_accuracy()\n"
      ],
      "execution_count": 0,
      "outputs": [
        {
          "output_type": "display_data",
          "data": {
            "image/png": "[encoded data removed]",
            "text/plain": [
              "<Figure size 432x288 with 1 Axes>"
            ]
          },
          "metadata": {
            "tags": []
          }
        }
      ]
    },
    {
      "cell_type": "markdown",
      "metadata": {
        "id": "t3uXV8q-1-PE",
        "colab_type": "text"
      },
      "source": [
        "#Testing Phase"
      ]
    },
    {
      "cell_type": "code",
      "metadata": {
        "id": "0iz2BODWlfbt",
        "colab_type": "code",
        "cellView": "form",
        "colab": {}
      },
      "source": [
        "#@title Run this cell to download the Omniglot test set to evaluate the performance of our meta learner.\n",
        "!wget https://github.com/brendenlake/omniglot/raw/master/python/one-shot-classification/all_runs.zip\n",
        "!unzip all_runs.zip"
      ],
      "execution_count": 0,
      "outputs": []
    },
    {
      "cell_type": "code",
      "metadata": {
        "id": "uk-_yimRFJUu",
        "colab_type": "code",
        "colab": {}
      },
      "source": [
        "from demo_classification import main"
      ],
      "execution_count": 0,
      "outputs": []
    },
    {
      "cell_type": "markdown",
      "metadata": {
        "id": "fLFRs47NSmFM",
        "colab_type": "text"
      },
      "source": [
        "Please uncomment the below code in order to use a pretrained model."
      ]
    },
    {
      "cell_type": "code",
      "metadata": {
        "id": "w8nM45z7mEUW",
        "colab_type": "code",
        "outputId": "42d68ac1-7b08-4a13-9e6d-be73f58441f7",
        "colab": {
          "base_uri": "https://localhost:8080/",
          "height": 819
        }
      },
      "source": [
        "# omniglot_20 = OmniglotMamlKwayNshot(k_way=20, n_shot=1, num_queries=1,\n",
        "#                                 num_tasks_per_batch=6, path='/content/epoch145_accuracy0.93125.pth')\n",
        "\n",
        "main(maml=omniglot_20)"
      ],
      "execution_count": 0,
      "outputs": [
        {
          "output_type": "stream",
          "text": [
            "One-shot classification demo with Modified Hausdorff Distance\n"
          ],
          "name": "stdout"
        },
        {
          "output_type": "stream",
          "text": [
            "/usr/local/lib/python3.6/dist-packages/skimage/io/_io.py:53: UserWarning: `flatten` has been deprecated in favor of `as_gray` and will be removed in v0.16.\n",
            "  warn('`flatten` has been deprecated in favor of `as_gray`'\n"
          ],
          "name": "stderr"
        },
        {
          "output_type": "stream",
          "text": [
            " run 1 (error 45.0%)\n",
            " run 2 (error 35.0%)\n",
            " run 3 (error 40.0%)\n",
            " run 4 (error 25.0%)\n",
            " run 5 (error 30.0%)\n",
            " run 6 (error 15.0%)\n",
            " run 7 (error 60.0%)\n",
            " run 8 (error 35.0%)\n",
            " run 9 (error 40.0%)\n",
            " run 10 (error 55.0%)\n",
            " run 11 (error 15.0%)\n",
            " run 12 (error 70.0%)\n",
            " run 13 (error 65.0%)\n",
            " run 14 (error 35.0%)\n",
            " run 15 (error 15.0%)\n",
            " run 16 (error 25.0%)\n",
            " run 17 (error 30.0%)\n",
            " run 18 (error 40.0%)\n",
            " run 19 (error 70.0%)\n",
            " run 20 (error 30.0%)\n",
            " average error 38.75%\n",
            "One-shot classification demo with MAML\n",
            " run 1 (error 0.0%)\n",
            " run 2 (error 10.0%)\n",
            " run 3 (error 15.0%)\n",
            " run 4 (error 5.0%)\n",
            " run 5 (error 10.0%)\n",
            " run 6 (error 0.0%)\n",
            " run 7 (error 5.0%)\n",
            " run 8 (error 15.0%)\n",
            " run 9 (error 25.0%)\n",
            " run 10 (error 25.0%)\n",
            " run 11 (error 10.0%)\n",
            " run 12 (error 10.0%)\n",
            " run 13 (error 10.0%)\n",
            " run 14 (error 10.0%)\n",
            " run 15 (error 10.0%)\n",
            " run 16 (error 0.0%)\n",
            " run 17 (error 25.0%)\n",
            " run 18 (error 35.0%)\n",
            " run 19 (error 30.0%)\n",
            " run 20 (error 20.0%)\n",
            " average error 13.5%\n"
          ],
          "name": "stdout"
        }
      ]
    },
    {
      "cell_type": "markdown",
      "metadata": {
        "id": "JcVvVhpH47rE",
        "colab_type": "text"
      },
      "source": [
        "###Quite clearly our newly trained model performs considerably better as compared to the default Modified Hausdorff Distance approach. Better performances can be achived by training the model over a longer period of time."
      ]
    },
    {
      "cell_type": "markdown",
      "metadata": {
        "id": "_8jh6uml50Kb",
        "colab_type": "text"
      },
      "source": [
        "##Credits:\n",
        "Oscar Knagg for his kickass blog"
      ]
    }
  ]
}